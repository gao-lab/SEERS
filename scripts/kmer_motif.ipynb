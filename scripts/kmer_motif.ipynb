{
 "cells": [
  {
   "cell_type": "code",
   "execution_count": null,
   "metadata": {
    "id": "voq_EIyaOPzX",
    "scrolled": true
   },
   "outputs": [],
   "source": [
    "import tensorflow as tf"
   ]
  },
  {
   "cell_type": "code",
   "execution_count": null,
   "metadata": {},
   "outputs": [],
   "source": [
    "# Make sure TensorFlow is BELOW 2.16! Otherwise the model won't be able to load.\n",
    "print(tf.__version__)"
   ]
  },
  {
   "cell_type": "code",
   "execution_count": null,
   "metadata": {
    "id": "vkkgAZHvWhh8",
    "scrolled": true
   },
   "outputs": [],
   "source": [
    "# GPU info:\n",
    "!nvidia-smi"
   ]
  },
  {
   "cell_type": "code",
   "execution_count": null,
   "metadata": {},
   "outputs": [],
   "source": [
    "# Assign GPU to use:\n",
    "GPU_id = '7'\n",
    "import os\n",
    "os.environ[\"CUDA_VISIBLE_DEVICES\"] = GPU_id\n",
    "\n",
    "# check GPU:\n",
    "gpu_devices = tf.config.list_physical_devices('GPU')\n",
    "print(f\"Num GPUs Available: {len(gpu_devices)}\")\n",
    "\n",
    "if gpu_devices:\n",
    "    print(\"GPU working\")\n",
    "    for device in gpu_devices:\n",
    "        print(f\"Device name: {device.name}\")\n",
    "        print(f\"Device type: {device.device_type}\")\n",
    "else:\n",
    "    print(\"GPU not working\")"
   ]
  },
  {
   "cell_type": "code",
   "execution_count": null,
   "metadata": {
    "id": "Xkr_7oyPWhh-"
   },
   "outputs": [],
   "source": [
    "import pandas as pd\n",
    "L5_8mer_df = pd.read_table('/rd4/users/liangn/mywork/L5_2-8mer.tsv')\n",
    "L5_8mer_df"
   ]
  },
  {
   "cell_type": "code",
   "execution_count": null,
   "metadata": {
    "id": "RAQNScryWhh_"
   },
   "outputs": [],
   "source": [
    "# 8-mer mutagenesis:\n",
    "\n",
    "# Function to generate a list of all possible mutations for a seq:\n",
    "def all_possible_mutations(dna_seq):\n",
    "    mutated_seqs = []\n",
    "    for i in range(len(dna_seq)):\n",
    "        for nucleotide in [\"A\", \"T\", \"C\", \"G\"]:\n",
    "            if nucleotide != dna_seq[i]:\n",
    "                mutated_seq = dna_seq[:i] + nucleotide + dna_seq[i+1:]\n",
    "                mutated_seqs.append(mutated_seq)\n",
    "    #\n",
    "    return mutated_seqs\n",
    "\n",
    "\n",
    "# functions to get a df of the regulatory relevance of each nucleotide of 8-mer:\n",
    "import pandas as pd\n",
    "import numpy as np\n",
    "def kmer_saliency_df(kmer = 'GGTAAGTA', target = 'delta.log2expression'):\n",
    "    # generate all point mutations:\n",
    "    all_mutants = all_possible_mutations(kmer)\n",
    "    # add the original seq to the mutant list:\n",
    "    all_mutants.insert(0, kmer)\n",
    "    # create empty df:\n",
    "    kmer_values = pd.DataFrame(columns=['kmer', 'value'])\n",
    "    # find values by each k-mer:\n",
    "    for the_kmer in all_mutants:\n",
    "        match = L5_8mer_df.loc[L5_8mer_df['kmer'] == the_kmer, target]\n",
    "        new_row = pd.DataFrame({'kmer': [the_kmer], 'value': [match.values[0]]})\n",
    "        kmer_values = pd.concat([kmer_values, new_row], ignore_index=True)\n",
    "    # calculate delta:\n",
    "    values = kmer_values['value'].values\n",
    "    deltas = values[0] - values[1:]\n",
    "    # median deltas of each original nucleotide/position:\n",
    "    delta_medians = []\n",
    "    for i in range(3, len(deltas)+1, 3):\n",
    "        median = np.median(deltas[i-3:i])\n",
    "        delta_medians.append(median)\n",
    "    # form the final data.frame suitable for logomaker:\n",
    "    position_list = list(kmer)\n",
    "    final_df = pd.DataFrame(columns=['A', 'C', 'G', 'T'])\n",
    "    for i, letter in enumerate(position_list):\n",
    "        final_df.at[i, letter] = delta_medians[i]\n",
    "    final_df = final_df.fillna(0)\n",
    "    final_df = final_df.astype('float64')\n",
    "    # change row index to 1,2,3...:\n",
    "    final_df.index = range(1, len(final_df) + 1)\n",
    "    #\n",
    "    return final_df\n",
    "\n",
    "\n",
    "# function to plot nucleotide saliencies:\n",
    "import logomaker\n",
    "import matplotlib.pyplot as plt\n",
    "def plot_saliency(df, negative=False,\n",
    "                  start=None, end=None, figsize=[8,2],\n",
    "                  xticks=False, yticks=False,\n",
    "                  spines=False, ylim=None):\n",
    "    # make Figure and Axes objects:\n",
    "    fig, ax = plt.subplots(1,1,figsize=figsize)\n",
    "    # limit x range, if defined:\n",
    "    if start is not None and end is not None:\n",
    "        df = df[start : end+1]\n",
    "    elif start is not None:\n",
    "        df = df[start : ]\n",
    "    elif end is not None:\n",
    "        df = df[ : end+1]\n",
    "    # flip saliencies if defined:\n",
    "    if negative == True:\n",
    "        df = -df\n",
    "    #\n",
    "    logo = logomaker.Logo(df, ax=ax)\n",
    "    #\n",
    "    if ylim is not None:\n",
    "        logo.ax.set_ylim(ylim)\n",
    "    #\n",
    "    if spines==False:\n",
    "        logo.style_spines(visible=False)\n",
    "    #\n",
    "    if xticks==False:\n",
    "        ax.set_xticks([])\n",
    "    #\n",
    "    if yticks==False:\n",
    "        ax.set_yticks([])\n",
    "    #\n",
    "    return logo.fig.tight_layout()"
   ]
  },
  {
   "cell_type": "code",
   "execution_count": null,
   "metadata": {
    "id": "kum-RaV8Whh_"
   },
   "outputs": [],
   "source": [
    "# define the k-mer:\n",
    "kmer = 'AA'\n",
    "\n",
    "# check expression:\n",
    "target = 'delta.log2expression'\n",
    "negative = False\n",
    "\n",
    "# run:\n",
    "the_kmer_saliency_df = kmer_saliency_df(kmer=kmer, target=target)\n",
    "# convert negative values:\n",
    "if negative == True:\n",
    "    the_kmer_saliency_df = -the_kmer_saliency_df\n",
    "#\n",
    "the_kmer_saliency_df"
   ]
  },
  {
   "cell_type": "code",
   "execution_count": null,
   "metadata": {
    "id": "AyfKmLi3WhiA"
   },
   "outputs": [],
   "source": [
    "plot_saliency(df=the_kmer_saliency_df, figsize=[3,2])"
   ]
  },
  {
   "cell_type": "code",
   "execution_count": null,
   "metadata": {},
   "outputs": [],
   "source": [
    "# save:\n",
    "the_kmer_saliency_df.to_csv(\"/rd4/users/liangn/mywork/ACCCAGAA.csv\", index=True)"
   ]
  },
  {
   "cell_type": "code",
   "execution_count": null,
   "metadata": {},
   "outputs": [],
   "source": [
    "# check export:\n",
    "target = 'delta.log2export'\n",
    "negative = True\n",
    "\n",
    "# run:\n",
    "the_kmer_saliency_df = kmer_saliency_df(kmer=kmer, target=target)\n",
    "# convert negative values:\n",
    "if negative == True:\n",
    "    the_kmer_saliency_df = -the_kmer_saliency_df\n",
    "#\n",
    "the_kmer_saliency_df"
   ]
  },
  {
   "cell_type": "code",
   "execution_count": null,
   "metadata": {},
   "outputs": [],
   "source": [
    "plot_saliency(df=the_kmer_saliency_df, figsize=[3,2])"
   ]
  },
  {
   "cell_type": "code",
   "execution_count": null,
   "metadata": {},
   "outputs": [],
   "source": [
    "# save:\n",
    "the_kmer_saliency_df.to_csv(\"/rd4/users/liangn/mywork/AACCACGT.csv\", index=True)"
   ]
  },
  {
   "cell_type": "code",
   "execution_count": null,
   "metadata": {},
   "outputs": [],
   "source": []
  }
 ],
 "metadata": {
  "accelerator": "GPU",
  "colab": {
   "provenance": []
  },
  "kernelspec": {
   "display_name": "Python 3 (ipykernel)",
   "language": "python",
   "name": "python3"
  },
  "language_info": {
   "codemirror_mode": {
    "name": "ipython",
    "version": 3
   },
   "file_extension": ".py",
   "mimetype": "text/x-python",
   "name": "python",
   "nbconvert_exporter": "python",
   "pygments_lexer": "ipython3",
   "version": "3.11.9"
  }
 },
 "nbformat": 4,
 "nbformat_minor": 4
}
