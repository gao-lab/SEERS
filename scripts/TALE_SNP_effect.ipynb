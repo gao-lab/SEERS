{
 "cells": [
  {
   "cell_type": "code",
   "execution_count": null,
   "metadata": {
    "id": "voq_EIyaOPzX",
    "scrolled": true
   },
   "outputs": [],
   "source": [
    "import tensorflow as tf"
   ]
  },
  {
   "cell_type": "code",
   "execution_count": null,
   "metadata": {},
   "outputs": [],
   "source": [
    "# Make sure TensorFlow is below 2.16! Otherwise the model won't be able to load.\n",
    "print(tf.__version__)"
   ]
  },
  {
   "cell_type": "code",
   "execution_count": null,
   "metadata": {
    "id": "vkkgAZHvWhh8",
    "scrolled": true
   },
   "outputs": [],
   "source": [
    "# GPU info:\n",
    "!nvidia-smi"
   ]
  },
  {
   "cell_type": "code",
   "execution_count": null,
   "metadata": {
    "id": "4mHxe2YXWhh9"
   },
   "outputs": [],
   "source": [
    "# Assign GPU to use:\n",
    "GPU_id = '7'\n",
    "import os\n",
    "os.environ[\"CUDA_VISIBLE_DEVICES\"] = GPU_id\n",
    "\n",
    "# check:\n",
    "import tensorflow as tf\n",
    "print(\"Num GPUs Available: \", len(tf.config.experimental.list_physical_devices('GPU')))"
   ]
  },
  {
   "cell_type": "code",
   "execution_count": null,
   "metadata": {
    "id": "98NU5NCGWhh9"
   },
   "outputs": [],
   "source": [
    "# check:\n",
    "sess = tf.compat.v1.Session()\n",
    "gpu_devices = tf.config.list_physical_devices('GPU')\n",
    "if len(gpu_devices) > 0:\n",
    "    print(\"GPU working\")\n",
    "else:\n",
    "    print(\"GPU not working\")"
   ]
  },
  {
   "cell_type": "code",
   "execution_count": null,
   "metadata": {
    "id": "yjElLEtyWhh-"
   },
   "outputs": [],
   "source": [
    "# check:\n",
    "for device in gpu_devices:\n",
    "    print(\"device name:\", device.name)\n",
    "    print(\"device type:\", device.device_type)"
   ]
  },
  {
   "cell_type": "code",
   "execution_count": null,
   "metadata": {},
   "outputs": [],
   "source": [
    "# Input SNP seq. Make sure to add 44 extra bases upstream and downstream to the SNP:\n",
    "ref = 'GACACGAACCTCAGTTAGCCTACATCCTACCAGAGGTCTGTGCCCCCGGTGGTGAGAAGTGCGGATTTCGTATTTGCAGCTCGTCAGTA'\n",
    "alt = 'GACACGAACCTCAGTTAGCCTACATCCTACCAGAGGTCTGTGCCGCCGGTGGTGAGAAGTGCGGATTTCGTATTTGCAGCTCGTCAGTA'\n",
    "# Both lengths should be 89 nt:\n",
    "len(ref)"
   ]
  },
  {
   "cell_type": "code",
   "execution_count": null,
   "metadata": {
    "scrolled": true
   },
   "outputs": [],
   "source": [
    "# function to split a string into k-mers:\n",
    "def kmerize(string, k):\n",
    "    return [string[i:i+k] for i in range(len(string)-k+1)]\n",
    "\n",
    "ref_N45s = kmerize(ref, 45)\n",
    "alt_N45s = kmerize(alt, 45)\n",
    "alt_N45s"
   ]
  },
  {
   "cell_type": "code",
   "execution_count": null,
   "metadata": {},
   "outputs": [],
   "source": [
    "# Convert DNA to array:\n",
    "\n",
    "# Function to convert a DNA sequence to vector:\n",
    "vocab = ['pad','N','A','T','C','G']\n",
    "char2idx = {u:i for i, u in enumerate(vocab)}\n",
    "def vectorize_dna_seq(dna_seq):\n",
    "    vectorized_dna_seq = [char2idx[char] for char in dna_seq]\n",
    "    return vectorized_dna_seq\n",
    "\n",
    "# Function to convert a list of DNA into x array for ANN inputs:\n",
    "from tensorflow.keras.preprocessing.sequence import pad_sequences\n",
    "def prepare_x(dna_list, x_lenth):\n",
    "    x = list(map(vectorize_dna_seq, dna_list))\n",
    "    x = pad_sequences(x, maxlen=x_lenth, padding='post')\n",
    "    return x\n",
    "\n",
    "ref_N45s_array = prepare_x(ref_N45s, 46)\n",
    "alt_N45s_array = prepare_x(alt_N45s, 46)\n",
    "alt_N45s_array"
   ]
  },
  {
   "cell_type": "code",
   "execution_count": null,
   "metadata": {
    "scrolled": true
   },
   "outputs": [],
   "source": [
    "# Predict:\n",
    "from keras.models import load_model\n",
    "model = '/rd4/users/liangn/L5-220528_em5-LSTM64x32x0.5-64x0.5-rep4.hdf5'\n",
    "Model = load_model(model)\n",
    "ref_N45s_predicts = Model.predict(ref_N45s_array)\n",
    "alt_N45s_predicts = Model.predict(alt_N45s_array)\n",
    "alt_N45s_predicts"
   ]
  },
  {
   "cell_type": "code",
   "execution_count": null,
   "metadata": {},
   "outputs": [],
   "source": [
    "# Calculate Delta log2(Cyt/DNA):\n",
    "delta_log2_cyt = alt_N45s_predicts[:, 1] - ref_N45s_predicts[:, 1]\n",
    "delta_log2_cyt"
   ]
  },
  {
   "cell_type": "code",
   "execution_count": null,
   "metadata": {},
   "outputs": [],
   "source": [
    "# Take median:\n",
    "import numpy as np\n",
    "np.median(delta_log2_cyt)"
   ]
  },
  {
   "cell_type": "code",
   "execution_count": null,
   "metadata": {},
   "outputs": [],
   "source": [
    "# Predict random SNPs:\n",
    "\n",
    "# Function to generate a random DNA:\n",
    "import random\n",
    "def generate_random_dna(length=89):\n",
    "    return ''.join(random.choice('ATGC') for _ in range(length))\n",
    "\n",
    "random_dna = generate_random_dna(89)\n",
    "random_dna"
   ]
  },
  {
   "cell_type": "code",
   "execution_count": null,
   "metadata": {},
   "outputs": [],
   "source": [
    "# Function to mrandomly mutate the central base:\n",
    "def mutate_dna(dna, mutation_position):\n",
    "    original_base = dna[mutation_position]\n",
    "    bases = 'ATGC'\n",
    "    mutated_base = random.choice([base for base in bases if base != original_base])\n",
    "    return dna[:mutation_position] + mutated_base + dna[mutation_position + 1:]\n",
    "\n",
    "mutation_position = 44\n",
    "mutated_dna = mutate_dna(random_dna, mutation_position)\n",
    "mutated_dna"
   ]
  },
  {
   "cell_type": "code",
   "execution_count": null,
   "metadata": {},
   "outputs": [],
   "source": [
    "# Don't show any progress:\n",
    "import os\n",
    "import tensorflow as tf\n",
    "os.environ['TF_CPP_MIN_LOG_LEVEL'] = '3' \n",
    "tf.get_logger().setLevel('ERROR')         "
   ]
  },
  {
   "cell_type": "code",
   "execution_count": null,
   "metadata": {
    "scrolled": true
   },
   "outputs": [],
   "source": [
    "# Predict random SNPs:\n",
    "def random_delta_log2_cyt ():\n",
    "    ref = generate_random_dna(89)\n",
    "    alt = mutate_dna(ref, mutation_position=44)\n",
    "    ref_N45s = kmerize(ref, 45)\n",
    "    alt_N45s = kmerize(alt, 45)\n",
    "    ref_N45s_array = prepare_x(ref_N45s, 46)\n",
    "    alt_N45s_array = prepare_x(alt_N45s, 46)\n",
    "    ref_N45s_predicts = Model.predict(ref_N45s_array)\n",
    "    alt_N45s_predicts = Model.predict(alt_N45s_array)\n",
    "    delta_log2_cyt = alt_N45s_predicts[:, 1] - ref_N45s_predicts[:, 1]\n",
    "    result = np.median(delta_log2_cyt)\n",
    "    return result\n",
    "\n",
    "results = []\n",
    "\n",
    "for _ in range(10000):\n",
    "    result = random_delta_log2_cyt()\n",
    "    results.append(result)"
   ]
  },
  {
   "cell_type": "code",
   "execution_count": null,
   "metadata": {
    "scrolled": true
   },
   "outputs": [],
   "source": [
    "results"
   ]
  },
  {
   "cell_type": "code",
   "execution_count": null,
   "metadata": {},
   "outputs": [],
   "source": [
    "len(results)"
   ]
  },
  {
   "cell_type": "code",
   "execution_count": null,
   "metadata": {},
   "outputs": [],
   "source": [
    "# Plot:\n",
    "import matplotlib.pyplot as plt\n",
    "plt.hist(results, bins=2048, edgecolor='black', alpha=0.7)\n",
    "plt.xlim(-0.2, 0.2)\n",
    "plt.title(\"Random SNP effects\")\n",
    "plt.xlabel(\"Delta log2(Cyt/DNA)\")\n",
    "plt.ylabel(\"Frequency\")\n",
    "plt.show()"
   ]
  },
  {
   "cell_type": "code",
   "execution_count": null,
   "metadata": {},
   "outputs": [],
   "source": []
  }
 ],
 "metadata": {
  "accelerator": "GPU",
  "colab": {
   "provenance": []
  },
  "kernelspec": {
   "display_name": "Python 3 (ipykernel)",
   "language": "python",
   "name": "python3"
  },
  "language_info": {
   "codemirror_mode": {
    "name": "ipython",
    "version": 3
   },
   "file_extension": ".py",
   "mimetype": "text/x-python",
   "name": "python",
   "nbconvert_exporter": "python",
   "pygments_lexer": "ipython3",
   "version": "3.11.9"
  }
 },
 "nbformat": 4,
 "nbformat_minor": 4
}
